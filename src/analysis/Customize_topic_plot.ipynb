{
 "cells": [
  {
   "cell_type": "code",
   "execution_count": 1,
   "id": "b309d51e",
   "metadata": {},
   "outputs": [],
   "source": [
    "import pandas as pd\n",
    "import numpy as np\n",
    "import plotly.express as px\n",
    "import plotly.io as pio\n",
    "pio.renderers.default='iframe'"
   ]
  },
  {
   "cell_type": "code",
   "execution_count": 2,
   "id": "0d8f6d1d",
   "metadata": {},
   "outputs": [],
   "source": [
    "df = pd.read_csv('for_figure.csv')"
   ]
  },
  {
   "cell_type": "code",
   "execution_count": 3,
   "id": "46191fa1",
   "metadata": {},
   "outputs": [
    {
     "data": {
      "text/html": [
       "<iframe\n",
       "    scrolling=\"no\"\n",
       "    width=\"1220px\"\n",
       "    height=\"720\"\n",
       "    src=\"iframe_figures/figure_3.html\"\n",
       "    frameborder=\"0\"\n",
       "    allowfullscreen\n",
       "></iframe>\n"
      ]
     },
     "metadata": {},
     "output_type": "display_data"
    }
   ],
   "source": [
    "fig = px.line(df, x='Timestamp', y= 'Frequency', color=\"Topic\", width=1200, height=700,\n",
    "             hover_data={\"Words\"},\n",
    "               template=\"simple_white\")\n",
    "fig.update_xaxes(\n",
    "    dtick=\"M1\",\n",
    "    tickformat=\"%b\\n%Y\",\n",
    "ticklabelmode=\"period\")\n",
    "\n",
    "fig.update_layout(hovermode='y unified')\n",
    "\n",
    "\n",
    "newnames = {'0':'children safety', \n",
    "            '1': 'vaccination',\n",
    "           '15': 'lies and truth seeking',\n",
    "           '3': 'reference to users',\n",
    "           '10': 'transportation',\n",
    "           '12': 'millions',\n",
    "           '8': 'religion',\n",
    "           '17': 'europe',\n",
    "           '2': 'The Netherlands',\n",
    "           '4': 'finances',\n",
    "           '7': 'elections',\n",
    "           '6': 'police brutality',\n",
    "           '5': 'online videos',\n",
    "            '14': '(fake news) media',\n",
    "            '13': 'protests',\n",
    "            '16': 'war',\n",
    "            '19': 'death and victims',\n",
    "            '9': 'hospitals and doctors',\n",
    "            '11': 'Donald Trump',\n",
    "            '18': 'COVID-19'}\n",
    "\n",
    "fig.for_each_trace(lambda t: t.update(name = newnames[t.name],\n",
    "                                      legendgroup = newnames[t.name]\n",
    "                                     ))\n",
    "fig.show()\n",
    "fig.write_image(\"topics_overtime.pdf\")"
   ]
  },
  {
   "cell_type": "code",
   "execution_count": 4,
   "id": "bca9354c",
   "metadata": {},
   "outputs": [],
   "source": [
    "fig.write_html('topics_overtime.html')"
   ]
  },
  {
   "cell_type": "code",
   "execution_count": null,
   "id": "b24abca8",
   "metadata": {},
   "outputs": [],
   "source": []
  }
 ],
 "metadata": {
  "kernelspec": {
   "display_name": "Python 3 (ipykernel)",
   "language": "python",
   "name": "python3"
  },
  "language_info": {
   "codemirror_mode": {
    "name": "ipython",
    "version": 3
   },
   "file_extension": ".py",
   "mimetype": "text/x-python",
   "name": "python",
   "nbconvert_exporter": "python",
   "pygments_lexer": "ipython3",
   "version": "3.9.5"
  }
 },
 "nbformat": 4,
 "nbformat_minor": 5
}
