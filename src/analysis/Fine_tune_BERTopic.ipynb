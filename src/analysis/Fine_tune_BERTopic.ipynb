{
 "cells": [
  {
   "cell_type": "markdown",
   "id": "b39a5934",
   "metadata": {},
   "source": [
    "####  Train BERTopic on a random sample of 300K of the corpus to predict topics on the whole corpus"
   ]
  },
  {
   "cell_type": "code",
   "execution_count": 4,
   "id": "012b7a22",
   "metadata": {},
   "outputs": [
    {
     "name": "stderr",
     "output_type": "stream",
     "text": [
      "[nltk_data] Downloading package punkt to /home/msimon/nltk_data...\n",
      "[nltk_data]   Package punkt is already up-to-date!\n"
     ]
    }
   ],
   "source": [
    "from bertopic import BERTopic\n",
    "from sentence_transformers import SentenceTransformer\n",
    "import pandas as pd\n",
    "import pickle\n",
    "import spacy\n",
    "import numpy as np\n",
    "import re\n",
    "import seaborn as sns\n",
    "import matplotlib.pyplot as plt\n",
    "import nltk\n",
    "nltk.download('punkt')\n",
    "from nltk.tokenize import sent_tokenize\n",
    "from nltk.tokenize import word_tokenize\n",
    "from textwrap import wrap\n",
    "import plotly.io as pio\n",
    "pio.renderers.default='iframe'"
   ]
  },
  {
   "cell_type": "code",
   "execution_count": 5,
   "id": "960807a7",
   "metadata": {},
   "outputs": [],
   "source": [
    "with open('clean_df.pkl', 'rb') as f:\n",
    "    df = pickle.load(f)\n",
    "#only keep the first 1000 characters of texts\n",
    "df['texts'] = df['texts'].astype(str).apply(lambda x: x[0:1000] if len(x) > 1000 else x)"
   ]
  },
  {
   "cell_type": "code",
   "execution_count": 7,
   "id": "2a9c18bc",
   "metadata": {},
   "outputs": [
    {
     "data": {
      "text/html": [
       "<div>\n",
       "<style scoped>\n",
       "    .dataframe tbody tr th:only-of-type {\n",
       "        vertical-align: middle;\n",
       "    }\n",
       "\n",
       "    .dataframe tbody tr th {\n",
       "        vertical-align: top;\n",
       "    }\n",
       "\n",
       "    .dataframe thead th {\n",
       "        text-align: right;\n",
       "    }\n",
       "</style>\n",
       "<table border=\"1\" class=\"dataframe\">\n",
       "  <thead>\n",
       "    <tr style=\"text-align: right;\">\n",
       "      <th></th>\n",
       "      <th>date</th>\n",
       "      <th>url</th>\n",
       "      <th>source</th>\n",
       "      <th>type</th>\n",
       "      <th>message_id</th>\n",
       "      <th>links</th>\n",
       "      <th>texts</th>\n",
       "      <th>text_len</th>\n",
       "    </tr>\n",
       "  </thead>\n",
       "  <tbody>\n",
       "    <tr>\n",
       "      <th>1152663</th>\n",
       "      <td>2021-02-17 06:57:43+00:00</td>\n",
       "      <td>https://t.me/klokkenchat</td>\n",
       "      <td>klokkenchat</td>\n",
       "      <td>channel</td>\n",
       "      <td>115709.0</td>\n",
       "      <td>https://www.sin-nl.org/doofpot/doofpot-cardiol...</td>\n",
       "      <td>Aansluitende op het laatste bericht. \\n\\n \\n\\n...</td>\n",
       "      <td>1000</td>\n",
       "    </tr>\n",
       "    <tr>\n",
       "      <th>1618524</th>\n",
       "      <td>2021-05-23 16:10:22+00:00</td>\n",
       "      <td>https://t.me/nederlandsverzet21</td>\n",
       "      <td>nederlandsverzet21</td>\n",
       "      <td>channel</td>\n",
       "      <td>60017.0</td>\n",
       "      <td>NaN</td>\n",
       "      <td>Deze technologieën combineren water met geluid...</td>\n",
       "      <td>1000</td>\n",
       "    </tr>\n",
       "    <tr>\n",
       "      <th>1514779</th>\n",
       "      <td>2020-10-29 09:07:30+00:00</td>\n",
       "      <td>https://t.me/wakkerAmsterdam</td>\n",
       "      <td>wakkerAmsterdam</td>\n",
       "      <td>chat</td>\n",
       "      <td>7454.0</td>\n",
       "      <td>NaN</td>\n",
       "      <td>Deze missie heet: \"Samen bevrijden we Apeldoor...</td>\n",
       "      <td>1000</td>\n",
       "    </tr>\n",
       "    <tr>\n",
       "      <th>798493</th>\n",
       "      <td>2020-06-25 05:11:43+00:00</td>\n",
       "      <td>https://t.me/samen1voornl</td>\n",
       "      <td>samen1voornl</td>\n",
       "      <td>chat</td>\n",
       "      <td>25491.0</td>\n",
       "      <td>https://www.transitieweb.nl/straling/lena-pu-h...</td>\n",
       "      <td>Goedemorgen. Nog héél even over 5G. Voor ieder...</td>\n",
       "      <td>1000</td>\n",
       "    </tr>\n",
       "    <tr>\n",
       "      <th>1918232</th>\n",
       "      <td>2021-05-23 16:11:49+00:00</td>\n",
       "      <td>https://t.me/BewustmakendNEWSNOW</td>\n",
       "      <td>BewustmakendNEWSNOW</td>\n",
       "      <td>chat</td>\n",
       "      <td>5908.0</td>\n",
       "      <td>NaN</td>\n",
       "      <td>These technologies combined water with sound f...</td>\n",
       "      <td>1000</td>\n",
       "    </tr>\n",
       "    <tr>\n",
       "      <th>...</th>\n",
       "      <td>...</td>\n",
       "      <td>...</td>\n",
       "      <td>...</td>\n",
       "      <td>...</td>\n",
       "      <td>...</td>\n",
       "      <td>...</td>\n",
       "      <td>...</td>\n",
       "      <td>...</td>\n",
       "    </tr>\n",
       "    <tr>\n",
       "      <th>958482</th>\n",
       "      <td>2021-06-02 12:08:26+00:00</td>\n",
       "      <td>https://t.me/klokkenchat</td>\n",
       "      <td>klokkenchat</td>\n",
       "      <td>chat</td>\n",
       "      <td>342393.0</td>\n",
       "      <td>NaN</td>\n",
       "      <td>👍</td>\n",
       "      <td>1</td>\n",
       "    </tr>\n",
       "    <tr>\n",
       "      <th>160212</th>\n",
       "      <td>2021-05-08 10:00:59+00:00</td>\n",
       "      <td>https://t.me/DeBataafseRepubliek</td>\n",
       "      <td>DeBataafseRepubliek</td>\n",
       "      <td>chat</td>\n",
       "      <td>346654.0</td>\n",
       "      <td>NaN</td>\n",
       "      <td>💪</td>\n",
       "      <td>1</td>\n",
       "    </tr>\n",
       "    <tr>\n",
       "      <th>870997</th>\n",
       "      <td>2020-02-08 18:32:01+00:00</td>\n",
       "      <td>https://t.me/Kletschat_burgers_tegen_onrecht</td>\n",
       "      <td>Kletschat_burgers_tegen_onrecht</td>\n",
       "      <td>chat</td>\n",
       "      <td>10347.0</td>\n",
       "      <td>NaN</td>\n",
       "      <td>👍</td>\n",
       "      <td>1</td>\n",
       "    </tr>\n",
       "    <tr>\n",
       "      <th>958493</th>\n",
       "      <td>2021-06-02 12:05:16+00:00</td>\n",
       "      <td>https://t.me/klokkenchat</td>\n",
       "      <td>klokkenchat</td>\n",
       "      <td>chat</td>\n",
       "      <td>342380.0</td>\n",
       "      <td>NaN</td>\n",
       "      <td>😂</td>\n",
       "      <td>1</td>\n",
       "    </tr>\n",
       "    <tr>\n",
       "      <th>1866828</th>\n",
       "      <td>2021-02-04 18:47:16+00:00</td>\n",
       "      <td>https://t.me/mondkapjesverzetgroep</td>\n",
       "      <td>mondkapjesverzetgroep</td>\n",
       "      <td>chat</td>\n",
       "      <td>29627.0</td>\n",
       "      <td>NaN</td>\n",
       "      <td>😁</td>\n",
       "      <td>1</td>\n",
       "    </tr>\n",
       "  </tbody>\n",
       "</table>\n",
       "<p>1771922 rows × 8 columns</p>\n",
       "</div>"
      ],
      "text/plain": [
       "                             date  \\\n",
       "1152663 2021-02-17 06:57:43+00:00   \n",
       "1618524 2021-05-23 16:10:22+00:00   \n",
       "1514779 2020-10-29 09:07:30+00:00   \n",
       "798493  2020-06-25 05:11:43+00:00   \n",
       "1918232 2021-05-23 16:11:49+00:00   \n",
       "...                           ...   \n",
       "958482  2021-06-02 12:08:26+00:00   \n",
       "160212  2021-05-08 10:00:59+00:00   \n",
       "870997  2020-02-08 18:32:01+00:00   \n",
       "958493  2021-06-02 12:05:16+00:00   \n",
       "1866828 2021-02-04 18:47:16+00:00   \n",
       "\n",
       "                                                  url  \\\n",
       "1152663                      https://t.me/klokkenchat   \n",
       "1618524               https://t.me/nederlandsverzet21   \n",
       "1514779                  https://t.me/wakkerAmsterdam   \n",
       "798493                      https://t.me/samen1voornl   \n",
       "1918232              https://t.me/BewustmakendNEWSNOW   \n",
       "...                                               ...   \n",
       "958482                       https://t.me/klokkenchat   \n",
       "160212               https://t.me/DeBataafseRepubliek   \n",
       "870997   https://t.me/Kletschat_burgers_tegen_onrecht   \n",
       "958493                       https://t.me/klokkenchat   \n",
       "1866828            https://t.me/mondkapjesverzetgroep   \n",
       "\n",
       "                                  source     type  message_id  \\\n",
       "1152663                      klokkenchat  channel    115709.0   \n",
       "1618524               nederlandsverzet21  channel     60017.0   \n",
       "1514779                  wakkerAmsterdam     chat      7454.0   \n",
       "798493                      samen1voornl     chat     25491.0   \n",
       "1918232              BewustmakendNEWSNOW     chat      5908.0   \n",
       "...                                  ...      ...         ...   \n",
       "958482                       klokkenchat     chat    342393.0   \n",
       "160212               DeBataafseRepubliek     chat    346654.0   \n",
       "870997   Kletschat_burgers_tegen_onrecht     chat     10347.0   \n",
       "958493                       klokkenchat     chat    342380.0   \n",
       "1866828            mondkapjesverzetgroep     chat     29627.0   \n",
       "\n",
       "                                                     links  \\\n",
       "1152663  https://www.sin-nl.org/doofpot/doofpot-cardiol...   \n",
       "1618524                                                NaN   \n",
       "1514779                                                NaN   \n",
       "798493   https://www.transitieweb.nl/straling/lena-pu-h...   \n",
       "1918232                                                NaN   \n",
       "...                                                    ...   \n",
       "958482                                                 NaN   \n",
       "160212                                                 NaN   \n",
       "870997                                                 NaN   \n",
       "958493                                                 NaN   \n",
       "1866828                                                NaN   \n",
       "\n",
       "                                                     texts  text_len  \n",
       "1152663  Aansluitende op het laatste bericht. \\n\\n \\n\\n...      1000  \n",
       "1618524  Deze technologieën combineren water met geluid...      1000  \n",
       "1514779  Deze missie heet: \"Samen bevrijden we Apeldoor...      1000  \n",
       "798493   Goedemorgen. Nog héél even over 5G. Voor ieder...      1000  \n",
       "1918232  These technologies combined water with sound f...      1000  \n",
       "...                                                    ...       ...  \n",
       "958482                                                   👍         1  \n",
       "160212                                                   💪         1  \n",
       "870997                                                   👍         1  \n",
       "958493                                                   😂         1  \n",
       "1866828                                                  😁         1  \n",
       "\n",
       "[1771922 rows x 8 columns]"
      ]
     },
     "execution_count": 7,
     "metadata": {},
     "output_type": "execute_result"
    }
   ],
   "source": [
    "#check len of str again\n",
    "#check len text once again\n",
    "df['text_len'] = df['texts'].astype(str).apply(len)\n",
    "df.sort_values(by = 'text_len', ascending = False)"
   ]
  },
  {
   "cell_type": "code",
   "execution_count": 8,
   "id": "8741b974",
   "metadata": {},
   "outputs": [
    {
     "data": {
      "text/plain": [
       "<seaborn.axisgrid.FacetGrid at 0x7f890e045820>"
      ]
     },
     "execution_count": 8,
     "metadata": {},
     "output_type": "execute_result"
    },
    {
     "data": {
      "image/png": "[encoded data removed]",
      "text/plain": [
       "<Figure size 360x360 with 1 Axes>"
      ]
     },
     "metadata": {
      "needs_background": "light"
     },
     "output_type": "display_data"
    }
   ],
   "source": [
    "# Show the distribution of headline length \n",
    "sns.displot(df.text_len, kde=False)"
   ]
  },
  {
   "cell_type": "code",
   "execution_count": 12,
   "id": "81056c02",
   "metadata": {},
   "outputs": [],
   "source": [
    "## Get random sample of the dataset to train bertopic on \n",
    "sample = df.sample(\n",
    "    n=300000, \n",
    "    frac=None, \n",
    "    replace=False, \n",
    "    weights=None, \n",
    "    random_state=2, \n",
    "    axis=None, \n",
    "    ignore_index=False\n",
    ")"
   ]
  },
  {
   "cell_type": "code",
   "execution_count": 13,
   "id": "ed9b1a6f",
   "metadata": {},
   "outputs": [],
   "source": [
    "sample_docs = sample.astype(str).texts.to_list()"
   ]
  },
  {
   "cell_type": "markdown",
   "id": "e023c6fe",
   "metadata": {},
   "source": [
    "Adding *embedding_model=SentenceTransformer(\"paraphrase-multilingual-MiniLM-L12-v2\")* should include emojis in topics"
   ]
  },
  {
   "cell_type": "code",
   "execution_count": 14,
   "id": "4e4021b5",
   "metadata": {},
   "outputs": [
    {
     "data": {
      "application/vnd.jupyter.widget-view+json": {
       "model_id": "3e6ea8908ab6461e87bb749b444f5ca2",
       "version_major": 2,
       "version_minor": 0
      },
      "text/plain": [
       "Batches:   0%|          | 0/9375 [00:00<?, ?it/s]"
      ]
     },
     "metadata": {},
     "output_type": "display_data"
    },
    {
     "name": "stderr",
     "output_type": "stream",
     "text": [
      "2022-05-17 17:58:19,814 - BERTopic - Transformed documents to Embeddings\n",
      "2022-05-17 18:05:37,402 - BERTopic - Reduced dimensionality\n"
     ]
    },
    {
     "name": "stdout",
     "output_type": "stream",
     "text": [
      "huggingface/tokenizers: The current process just got forked, after parallelism has already been used. Disabling parallelism to avoid deadlocks...\n",
      "To disable this warning, you can either:\n",
      "\t- Avoid using `tokenizers` before the fork if possible\n",
      "\t- Explicitly set the environment variable TOKENIZERS_PARALLELISM=(true | false)\n",
      "huggingface/tokenizers: The current process just got forked, after parallelism has already been used. Disabling parallelism to avoid deadlocks...\n",
      "To disable this warning, you can either:\n",
      "\t- Avoid using `tokenizers` before the fork if possible\n",
      "\t- Explicitly set the environment variable TOKENIZERS_PARALLELISM=(true | false)\n",
      "huggingface/tokenizers: The current process just got forked, after parallelism has already been used. Disabling parallelism to avoid deadlocks...\n",
      "To disable this warning, you can either:\n",
      "\t- Avoid using `tokenizers` before the fork if possible\n",
      "\t- Explicitly set the environment variable TOKENIZERS_PARALLELISM=(true | false)\n",
      "huggingface/tokenizers: The current process just got forked, after parallelism has already been used. Disabling parallelism to avoid deadlocks...\n",
      "To disable this warning, you can either:\n",
      "\t- Avoid using `tokenizers` before the fork if possible\n",
      "\t- Explicitly set the environment variable TOKENIZERS_PARALLELISM=(true | false)\n",
      "huggingface/tokenizers: The current process just got forked, after parallelism has already been used. Disabling parallelism to avoid deadlocks...\n",
      "To disable this warning, you can either:\n",
      "\t- Avoid using `tokenizers` before the fork if possible\n",
      "\t- Explicitly set the environment variable TOKENIZERS_PARALLELISM=(true | false)\n",
      "huggingface/tokenizers: The current process just got forked, after parallelism has already been used. Disabling parallelism to avoid deadlocks...\n",
      "To disable this warning, you can either:\n",
      "\t- Avoid using `tokenizers` before the fork if possible\n",
      "\t- Explicitly set the environment variable TOKENIZERS_PARALLELISM=(true | false)\n"
     ]
    },
    {
     "name": "stderr",
     "output_type": "stream",
     "text": [
      "2022-05-17 18:06:44,287 - BERTopic - Clustered reduced embeddings\n",
      "2022-05-17 18:07:58,671 - BERTopic - Reduced number of topics from 199 to 131\n"
     ]
    }
   ],
   "source": [
    "topic_model = BERTopic(embedding_model=SentenceTransformer(\"paraphrase-multilingual-MiniLM-L12-v2\"), language = 'multilingual', n_gram_range=(1, 2), min_topic_size=200, nr_topics=\"auto\", diversity=0.3, verbose = True)\n",
    "topics, probs = topic_model.fit_transform(sample_docs)"
   ]
  },
  {
   "cell_type": "code",
   "execution_count": 114,
   "id": "d392db27",
   "metadata": {},
   "outputs": [],
   "source": [
    "#save model\n",
    "import warnings\n",
    "from scipy.sparse import (spdiags, SparseEfficiencyWarning, csc_matrix,\n",
    "    csr_matrix, isspmatrix, dok_matrix, lil_matrix, bsr_matrix)\n",
    "warnings.simplefilter('ignore',SparseEfficiencyWarning)\n",
    "topic_model.save('model_300K')"
   ]
  },
  {
   "cell_type": "code",
   "execution_count": 9,
   "id": "6e3d8c38",
   "metadata": {},
   "outputs": [],
   "source": [
    "#load model\n",
    "topic_model = BERTopic.load(\"model_300K\")"
   ]
  },
  {
   "cell_type": "markdown",
   "id": "dfea68ef",
   "metadata": {},
   "source": [
    "#### Predict topics on entire dataset using model_300K"
   ]
  },
  {
   "cell_type": "code",
   "execution_count": 16,
   "id": "5fb3b584",
   "metadata": {},
   "outputs": [],
   "source": [
    "docs = df.astype(str).texts.to_list()\n",
    "timestamps = df.reset_index().date.to_list()"
   ]
  },
  {
   "cell_type": "code",
   "execution_count": 93,
   "id": "20900457",
   "metadata": {},
   "outputs": [
    {
     "data": {
      "application/vnd.jupyter.widget-view+json": {
       "model_id": "82c1df55e1684f8d921fbd380e9fba90",
       "version_major": 2,
       "version_minor": 0
      },
      "text/plain": [
       "Batches:   0%|          | 0/55373 [00:00<?, ?it/s]"
      ]
     },
     "metadata": {},
     "output_type": "display_data"
    },
    {
     "name": "stderr",
     "output_type": "stream",
     "text": [
      "2022-05-18 06:34:59,409 - BERTopic - Reduced dimensionality\n",
      "2022-05-18 06:48:52,454 - BERTopic - Predicted clusters\n"
     ]
    }
   ],
   "source": [
    "topics, probs = topic_model.transform(docs)"
   ]
  },
  {
   "cell_type": "code",
   "execution_count": 96,
   "id": "a3b4116c",
   "metadata": {},
   "outputs": [],
   "source": [
    "#loading the english language small model of spacy\n",
    "#https://github.com/facebook/prophet/issues/418\n",
    "#fix this\n",
    "en = spacy.load('en_core_web_md')\n",
    "nl = spacy.load('nl_core_news_sm')\n",
    "sw_nl = nl.Defaults.stop_words\n",
    "sw_en = en.Defaults.stop_words\n",
    "#merge english and dutch stopwords\n",
    "stopwords = sw_nl.union(sw_en)"
   ]
  },
  {
   "cell_type": "code",
   "execution_count": 97,
   "id": "4e09ad03",
   "metadata": {},
   "outputs": [],
   "source": [
    "# Update topic representation by increasing n-gram range and removing english stopwords\n",
    "from sklearn.feature_extraction.text import CountVectorizer\n",
    "vectorizer_model = CountVectorizer(ngram_range=(1, 2),stop_words = stopwords, min_df = 10)\n",
    "topic_model.update_topics(docs, topics, vectorizer_model=vectorizer_model)"
   ]
  },
  {
   "cell_type": "code",
   "execution_count": 99,
   "id": "e79c6e6c",
   "metadata": {},
   "outputs": [],
   "source": [
    "#save topics\n",
    "with open('topics.pkl', 'wb') as f:\n",
    "    pickle.dump(topics, f)"
   ]
  },
  {
   "cell_type": "code",
   "execution_count": 110,
   "id": "9d025e4e",
   "metadata": {},
   "outputs": [],
   "source": [
    "#load topics\n",
    "with open('topics.pkl', 'rb') as f:\n",
    "    topics = pickle.load(f)"
   ]
  },
  {
   "cell_type": "code",
   "execution_count": 138,
   "id": "888851c5",
   "metadata": {},
   "outputs": [],
   "source": [
    "#info_df = topic_model.get_topic_info()\n",
    "#all_topics = topic_model.get_topics()"
   ]
  },
  {
   "cell_type": "code",
   "execution_count": 10,
   "id": "c1d543bc",
   "metadata": {},
   "outputs": [
    {
     "data": {
      "text/plain": [
       "[('wakkeren', 0.011751690185570856),\n",
       " ('wakkerenchat__ __', 0.0092244082299725),\n",
       " ('wakkerenchat__', 0.00922403022317552),\n",
       " ('wakker', 0.009041371878311683),\n",
       " ('perspectief wakkerenchat__', 0.008963126011007802),\n",
       " ('dank', 0.007824661019612355),\n",
       " ('morgen', 0.005598200183386352),\n",
       " ('perspectief wakkeren', 0.005287922779197536),\n",
       " ('wakkeren nl__', 0.005285973794843962),\n",
       " ('wakkeren chat__', 0.005285973794843962)]"
      ]
     },
     "execution_count": 10,
     "metadata": {},
     "output_type": "execute_result"
    }
   ],
   "source": [
    "topic_0 = topic_model.get_topic(0)\n",
    "topic_0"
   ]
  },
  {
   "cell_type": "code",
   "execution_count": null,
   "id": "5f93978d",
   "metadata": {},
   "outputs": [],
   "source": [
    "#topic_model.visualize_hierarchy()\n",
    "#topic_model.visualize_heatmap()\n",
    "#topic_model.visualize_term_rank()\n",
    "#topic_model.visualize_term_rank(log_scale=True"
   ]
  },
  {
   "cell_type": "code",
   "execution_count": 11,
   "id": "29c076bb",
   "metadata": {},
   "outputs": [
    {
     "data": {
      "text/html": [
       "<iframe\n",
       "    scrolling=\"no\"\n",
       "    width=\"720px\"\n",
       "    height=\"720\"\n",
       "    src=\"iframe_figures/figure_11.html\"\n",
       "    frameborder=\"0\"\n",
       "    allowfullscreen\n",
       "></iframe>\n"
      ]
     },
     "metadata": {},
     "output_type": "display_data"
    }
   ],
   "source": [
    "#map intertopic distance\n",
    "intertopic_distance = topic_model.visualize_topics(width=700, height=700)\n",
    "#save fig\n",
    "intertopic_distance.write_html('intertopic.html')\n",
    "#display fig\n",
    "intertopic_distance"
   ]
  }
 ],
 "metadata": {
  "kernelspec": {
   "display_name": "Rapids",
   "language": "python",
   "name": "rapids-22.04"
  },
  "language_info": {
   "codemirror_mode": {
    "name": "ipython",
    "version": 3
   },
   "file_extension": ".py",
   "mimetype": "text/x-python",
   "name": "python",
   "nbconvert_exporter": "python",
   "pygments_lexer": "ipython3",
   "version": "3.8.13"
  }
 },
 "nbformat": 4,
 "nbformat_minor": 5
}
