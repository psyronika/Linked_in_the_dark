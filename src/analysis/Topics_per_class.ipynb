{
 "cells": [
  {
   "cell_type": "markdown",
   "id": "ff66e74b",
   "metadata": {},
   "source": [
    "### BERTopic per class (i.e., chat/channel)"
   ]
  },
  {
   "cell_type": "code",
   "execution_count": 1,
   "id": "35c7e23e",
   "metadata": {},
   "outputs": [
    {
     "name": "stderr",
     "output_type": "stream",
     "text": [
      "[nltk_data] Downloading package punkt to /home/msimon/nltk_data...\n",
      "[nltk_data]   Package punkt is already up-to-date!\n"
     ]
    }
   ],
   "source": [
    "from bertopic import BERTopic\n",
    "from sentence_transformers import SentenceTransformer\n",
    "import pandas as pd\n",
    "import pickle\n",
    "import spacy\n",
    "import numpy as np\n",
    "import matplotlib.pyplot as plt\n",
    "import plotly.io as pio\n",
    "pio.renderers.default='iframe'\n",
    "#pio.renderers? -#make sure that this is set to 'iframe' so that figure displays"
   ]
  },
  {
   "cell_type": "code",
   "execution_count": 12,
   "id": "1948caf9",
   "metadata": {},
   "outputs": [],
   "source": [
    "#open data\n",
    "with open('clean_df.pkl', 'rb') as f:\n",
    "    df = pickle.load(f)"
   ]
  },
  {
   "cell_type": "code",
   "execution_count": 6,
   "id": "d6cde424",
   "metadata": {},
   "outputs": [],
   "source": [
    "#load model\n",
    "topic_model = BERTopic.load(\"model_300K\")"
   ]
  },
  {
   "cell_type": "code",
   "execution_count": 10,
   "id": "97f71a9d",
   "metadata": {},
   "outputs": [],
   "source": [
    "#load topics\n",
    "with open('topics.pkl', 'rb') as f:\n",
    "    topics = pickle.load(f)"
   ]
  },
  {
   "cell_type": "code",
   "execution_count": 11,
   "id": "db295ab5",
   "metadata": {},
   "outputs": [],
   "source": [
    "#load topics over time\n",
    "with open('topics_over_time.pkl', 'rb') as f:\n",
    "    topics_over_time = pickle.load(f)"
   ]
  },
  {
   "cell_type": "code",
   "execution_count": 17,
   "id": "685df5c6",
   "metadata": {},
   "outputs": [],
   "source": [
    "#create additional column\n",
    "df['source_id'] = df.groupby('source').ngroup()"
   ]
  },
  {
   "cell_type": "code",
   "execution_count": 11,
   "id": "9700c7fd",
   "metadata": {},
   "outputs": [],
   "source": [
    "#get the for topic modelling per class\n",
    "#class in this case will be the name of the chat/channel\n",
    "data= pd.DataFrame(df).to_dict(orient=\"list\") #dict of lists\n",
    "docs = data[\"texts\"]\n",
    "targets = data[\"source_id\"]\n",
    "target_names = list(set(data[\"source\"]))\n",
    "classes = data['source']"
   ]
  },
  {
   "cell_type": "code",
   "execution_count": 13,
   "id": "9244aeb7",
   "metadata": {},
   "outputs": [
    {
     "name": "stderr",
     "output_type": "stream",
     "text": [
      "173it [05:49,  2.02s/it]\n"
     ]
    }
   ],
   "source": [
    "#run topic model per class\n",
    "topics_per_class = topic_model.topics_per_class(docs, topics, classes=classes)"
   ]
  },
  {
   "cell_type": "code",
   "execution_count": 28,
   "id": "52aaf63a",
   "metadata": {},
   "outputs": [],
   "source": [
    "#save topic model per class\n",
    "topics_per_class.to_pickle('topics_per_class.pkl')"
   ]
  },
  {
   "cell_type": "code",
   "execution_count": 2,
   "id": "d6c23cfb",
   "metadata": {},
   "outputs": [],
   "source": [
    "#load topic model per class \n",
    "#with open('topics_per_class.pkl', 'rb') as f:\n",
    "    #topics_per_class = pickle.load(f)"
   ]
  },
  {
   "cell_type": "code",
   "execution_count": 6,
   "id": "052ff5d1",
   "metadata": {},
   "outputs": [
    {
     "data": {
      "text/plain": [
       "173"
      ]
     },
     "execution_count": 6,
     "metadata": {},
     "output_type": "execute_result"
    }
   ],
   "source": [
    "#there is one class per chat/channel\n",
    "len(topics_per_class['Class'].unique())"
   ]
  },
  {
   "cell_type": "code",
   "execution_count": 13,
   "id": "240ace16",
   "metadata": {},
   "outputs": [
    {
     "data": {
      "text/html": [
       "<div>\n",
       "<style scoped>\n",
       "    .dataframe tbody tr th:only-of-type {\n",
       "        vertical-align: middle;\n",
       "    }\n",
       "\n",
       "    .dataframe tbody tr th {\n",
       "        vertical-align: top;\n",
       "    }\n",
       "\n",
       "    .dataframe thead th {\n",
       "        text-align: right;\n",
       "    }\n",
       "</style>\n",
       "<table border=\"1\" class=\"dataframe\">\n",
       "  <thead>\n",
       "    <tr style=\"text-align: right;\">\n",
       "      <th></th>\n",
       "      <th>Topic</th>\n",
       "      <th>Words</th>\n",
       "      <th>Frequency</th>\n",
       "      <th>Class</th>\n",
       "    </tr>\n",
       "  </thead>\n",
       "  <tbody>\n",
       "    <tr>\n",
       "      <th>0</th>\n",
       "      <td>-1</td>\n",
       "      <td>military, breaking, trump, theugnews, world</td>\n",
       "      <td>3060</td>\n",
       "      <td>BewustmakendNEWSNOW</td>\n",
       "    </tr>\n",
       "    <tr>\n",
       "      <th>1</th>\n",
       "      <td>0</td>\n",
       "      <td>aanrader, welkom, dank, deel bericht, wakkeren</td>\n",
       "      <td>660</td>\n",
       "      <td>BewustmakendNEWSNOW</td>\n",
       "    </tr>\n",
       "    <tr>\n",
       "      <th>2</th>\n",
       "      <td>1</td>\n",
       "      <td>germany, nederlanders, nazi, europa, german</td>\n",
       "      <td>88</td>\n",
       "      <td>BewustmakendNEWSNOW</td>\n",
       "    </tr>\n",
       "    <tr>\n",
       "      <th>3</th>\n",
       "      <td>2</td>\n",
       "      <td>vaccineren, covid 19, gevaccineerd, vaccinatie...</td>\n",
       "      <td>122</td>\n",
       "      <td>BewustmakendNEWSNOW</td>\n",
       "    </tr>\n",
       "    <tr>\n",
       "      <th>4</th>\n",
       "      <td>3</td>\n",
       "      <td>financial system, quantum, bitcoin, federal re...</td>\n",
       "      <td>113</td>\n",
       "      <td>BewustmakendNEWSNOW</td>\n",
       "    </tr>\n",
       "    <tr>\n",
       "      <th>...</th>\n",
       "      <td>...</td>\n",
       "      <td>...</td>\n",
       "      <td>...</td>\n",
       "      <td>...</td>\n",
       "    </tr>\n",
       "    <tr>\n",
       "      <th>10858</th>\n",
       "      <td>111</td>\n",
       "      <td>satelliet, space force, raketten, video, satel...</td>\n",
       "      <td>1</td>\n",
       "      <td>Waarheid_Eindtijd_Profetie</td>\n",
       "    </tr>\n",
       "    <tr>\n",
       "      <th>10859</th>\n",
       "      <td>114</td>\n",
       "      <td>vaticaan, francis, zachtst gezegd, katholieke ...</td>\n",
       "      <td>2</td>\n",
       "      <td>Waarheid_Eindtijd_Profetie</td>\n",
       "    </tr>\n",
       "    <tr>\n",
       "      <th>10860</th>\n",
       "      <td>118</td>\n",
       "      <td>foto, solar, zon schijnt, zonlicht, zonne</td>\n",
       "      <td>1</td>\n",
       "      <td>Waarheid_Eindtijd_Profetie</td>\n",
       "    </tr>\n",
       "    <tr>\n",
       "      <th>10861</th>\n",
       "      <td>123</td>\n",
       "      <td>video beelden, arrestatie, arrested, arrestati...</td>\n",
       "      <td>1</td>\n",
       "      <td>Waarheid_Eindtijd_Profetie</td>\n",
       "    </tr>\n",
       "    <tr>\n",
       "      <th>10862</th>\n",
       "      <td>124</td>\n",
       "      <td>800 000, tunnel, terreur, betaald, tunnels</td>\n",
       "      <td>1</td>\n",
       "      <td>Waarheid_Eindtijd_Profetie</td>\n",
       "    </tr>\n",
       "  </tbody>\n",
       "</table>\n",
       "<p>10863 rows × 4 columns</p>\n",
       "</div>"
      ],
      "text/plain": [
       "       Topic                                              Words  Frequency  \\\n",
       "0         -1        military, breaking, trump, theugnews, world       3060   \n",
       "1          0     aanrader, welkom, dank, deel bericht, wakkeren        660   \n",
       "2          1        germany, nederlanders, nazi, europa, german         88   \n",
       "3          2  vaccineren, covid 19, gevaccineerd, vaccinatie...        122   \n",
       "4          3  financial system, quantum, bitcoin, federal re...        113   \n",
       "...      ...                                                ...        ...   \n",
       "10858    111  satelliet, space force, raketten, video, satel...          1   \n",
       "10859    114  vaticaan, francis, zachtst gezegd, katholieke ...          2   \n",
       "10860    118          foto, solar, zon schijnt, zonlicht, zonne          1   \n",
       "10861    123  video beelden, arrestatie, arrested, arrestati...          1   \n",
       "10862    124         800 000, tunnel, terreur, betaald, tunnels          1   \n",
       "\n",
       "                            Class  \n",
       "0             BewustmakendNEWSNOW  \n",
       "1             BewustmakendNEWSNOW  \n",
       "2             BewustmakendNEWSNOW  \n",
       "3             BewustmakendNEWSNOW  \n",
       "4             BewustmakendNEWSNOW  \n",
       "...                           ...  \n",
       "10858  Waarheid_Eindtijd_Profetie  \n",
       "10859  Waarheid_Eindtijd_Profetie  \n",
       "10860  Waarheid_Eindtijd_Profetie  \n",
       "10861  Waarheid_Eindtijd_Profetie  \n",
       "10862  Waarheid_Eindtijd_Profetie  \n",
       "\n",
       "[10863 rows x 4 columns]"
      ]
     },
     "execution_count": 13,
     "metadata": {},
     "output_type": "execute_result"
    }
   ],
   "source": [
    "#df \n",
    "topics_per_class"
   ]
  },
  {
   "cell_type": "code",
   "execution_count": 59,
   "id": "92563b9d",
   "metadata": {},
   "outputs": [
    {
     "data": {
      "text/html": [
       "<iframe\n",
       "    scrolling=\"no\"\n",
       "    width=\"1020px\"\n",
       "    height=\"920\"\n",
       "    src=\"iframe_figures/figure_11.html\"\n",
       "    frameborder=\"0\"\n",
       "    allowfullscreen\n",
       "></iframe>\n"
      ]
     },
     "metadata": {},
     "output_type": "display_data"
    }
   ],
   "source": [
    "#perform topic modelling per class\n",
    "fig_classes = topic_model.visualize_topics_per_class(topics_per_class, top_n_topics=50,  normalize_frequency=True, width=1000, height=900)\n",
    "#save as html file\n",
    "fig_classes.write_html(\"fig_classes.html\")\n",
    "#display fig\n",
    "fig_classes"
   ]
  }
 ],
 "metadata": {
  "kernelspec": {
   "display_name": "Python 3.8",
   "language": "python",
   "name": "py38"
  },
  "language_info": {
   "codemirror_mode": {
    "name": "ipython",
    "version": 3
   },
   "file_extension": ".py",
   "mimetype": "text/x-python",
   "name": "python",
   "nbconvert_exporter": "python",
   "pygments_lexer": "ipython3",
   "version": "3.8.13"
  }
 },
 "nbformat": 4,
 "nbformat_minor": 5
}
